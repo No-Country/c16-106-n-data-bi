{
 "cells": [
  {
   "cell_type": "code",
   "execution_count": 9,
   "metadata": {},
   "outputs": [],
   "source": [
    "from google.cloud import bigquery\n",
    "import pandas as pd\n",
    "import numpy as np\n",
    "import matplotlib\n",
    "from sklearn.model_selection import train_test_split"
   ]
  },
  {
   "cell_type": "markdown",
   "metadata": {},
   "source": [
    "Se abre el archivo csv:"
   ]
  },
  {
   "cell_type": "code",
   "execution_count": 12,
   "metadata": {},
   "outputs": [],
   "source": [
    "df_data = pd.read_csv('Data/stock_data.csv')"
   ]
  },
  {
   "cell_type": "code",
   "execution_count": 13,
   "metadata": {},
   "outputs": [
    {
     "data": {
      "text/html": [
       "<div>\n",
       "<style scoped>\n",
       "    .dataframe tbody tr th:only-of-type {\n",
       "        vertical-align: middle;\n",
       "    }\n",
       "\n",
       "    .dataframe tbody tr th {\n",
       "        vertical-align: top;\n",
       "    }\n",
       "\n",
       "    .dataframe thead th {\n",
       "        text-align: right;\n",
       "    }\n",
       "</style>\n",
       "<table border=\"1\" class=\"dataframe\">\n",
       "  <thead>\n",
       "    <tr style=\"text-align: right;\">\n",
       "      <th></th>\n",
       "      <th>Date</th>\n",
       "      <th>Company</th>\n",
       "      <th>Open</th>\n",
       "      <th>High</th>\n",
       "      <th>Low</th>\n",
       "      <th>Close</th>\n",
       "      <th>Adj Close</th>\n",
       "      <th>Volume</th>\n",
       "    </tr>\n",
       "  </thead>\n",
       "  <tbody>\n",
       "    <tr>\n",
       "      <th>0</th>\n",
       "      <td>2019-01-02</td>\n",
       "      <td>NFLX</td>\n",
       "      <td>259.279999</td>\n",
       "      <td>269.750000</td>\n",
       "      <td>256.579987</td>\n",
       "      <td>267.660004</td>\n",
       "      <td>267.660004</td>\n",
       "      <td>11679500</td>\n",
       "    </tr>\n",
       "    <tr>\n",
       "      <th>1</th>\n",
       "      <td>2019-01-03</td>\n",
       "      <td>NFLX</td>\n",
       "      <td>270.200012</td>\n",
       "      <td>275.790009</td>\n",
       "      <td>264.429993</td>\n",
       "      <td>271.200012</td>\n",
       "      <td>271.200012</td>\n",
       "      <td>14969600</td>\n",
       "    </tr>\n",
       "    <tr>\n",
       "      <th>2</th>\n",
       "      <td>2019-01-04</td>\n",
       "      <td>NFLX</td>\n",
       "      <td>281.880005</td>\n",
       "      <td>297.799988</td>\n",
       "      <td>278.540009</td>\n",
       "      <td>297.570007</td>\n",
       "      <td>297.570007</td>\n",
       "      <td>19330100</td>\n",
       "    </tr>\n",
       "    <tr>\n",
       "      <th>3</th>\n",
       "      <td>2019-01-07</td>\n",
       "      <td>NFLX</td>\n",
       "      <td>302.100006</td>\n",
       "      <td>316.799988</td>\n",
       "      <td>301.649994</td>\n",
       "      <td>315.339996</td>\n",
       "      <td>315.339996</td>\n",
       "      <td>18620100</td>\n",
       "    </tr>\n",
       "    <tr>\n",
       "      <th>4</th>\n",
       "      <td>2019-01-08</td>\n",
       "      <td>NFLX</td>\n",
       "      <td>319.980011</td>\n",
       "      <td>320.589996</td>\n",
       "      <td>308.010010</td>\n",
       "      <td>320.269989</td>\n",
       "      <td>320.269989</td>\n",
       "      <td>15359200</td>\n",
       "    </tr>\n",
       "    <tr>\n",
       "      <th>...</th>\n",
       "      <td>...</td>\n",
       "      <td>...</td>\n",
       "      <td>...</td>\n",
       "      <td>...</td>\n",
       "      <td>...</td>\n",
       "      <td>...</td>\n",
       "      <td>...</td>\n",
       "      <td>...</td>\n",
       "    </tr>\n",
       "    <tr>\n",
       "      <th>16696</th>\n",
       "      <td>2024-02-07</td>\n",
       "      <td>MCD</td>\n",
       "      <td>285.049988</td>\n",
       "      <td>290.529999</td>\n",
       "      <td>284.109985</td>\n",
       "      <td>287.329987</td>\n",
       "      <td>287.329987</td>\n",
       "      <td>3954700</td>\n",
       "    </tr>\n",
       "    <tr>\n",
       "      <th>16697</th>\n",
       "      <td>2024-02-08</td>\n",
       "      <td>MCD</td>\n",
       "      <td>286.200012</td>\n",
       "      <td>293.149994</td>\n",
       "      <td>284.200012</td>\n",
       "      <td>291.929993</td>\n",
       "      <td>291.929993</td>\n",
       "      <td>4605000</td>\n",
       "    </tr>\n",
       "    <tr>\n",
       "      <th>16698</th>\n",
       "      <td>2024-02-09</td>\n",
       "      <td>MCD</td>\n",
       "      <td>292.149994</td>\n",
       "      <td>292.510010</td>\n",
       "      <td>288.920013</td>\n",
       "      <td>289.470001</td>\n",
       "      <td>289.470001</td>\n",
       "      <td>3322100</td>\n",
       "    </tr>\n",
       "    <tr>\n",
       "      <th>16699</th>\n",
       "      <td>2024-02-12</td>\n",
       "      <td>MCD</td>\n",
       "      <td>289.000000</td>\n",
       "      <td>291.190002</td>\n",
       "      <td>288.760010</td>\n",
       "      <td>289.440002</td>\n",
       "      <td>289.440002</td>\n",
       "      <td>2392300</td>\n",
       "    </tr>\n",
       "    <tr>\n",
       "      <th>16700</th>\n",
       "      <td>2024-02-13</td>\n",
       "      <td>MCD</td>\n",
       "      <td>288.630005</td>\n",
       "      <td>289.899994</td>\n",
       "      <td>285.670013</td>\n",
       "      <td>287.109985</td>\n",
       "      <td>287.109985</td>\n",
       "      <td>2756100</td>\n",
       "    </tr>\n",
       "  </tbody>\n",
       "</table>\n",
       "<p>16701 rows × 8 columns</p>\n",
       "</div>"
      ],
      "text/plain": [
       "             Date Company        Open        High         Low       Close  \\\n",
       "0      2019-01-02    NFLX  259.279999  269.750000  256.579987  267.660004   \n",
       "1      2019-01-03    NFLX  270.200012  275.790009  264.429993  271.200012   \n",
       "2      2019-01-04    NFLX  281.880005  297.799988  278.540009  297.570007   \n",
       "3      2019-01-07    NFLX  302.100006  316.799988  301.649994  315.339996   \n",
       "4      2019-01-08    NFLX  319.980011  320.589996  308.010010  320.269989   \n",
       "...           ...     ...         ...         ...         ...         ...   \n",
       "16696  2024-02-07     MCD  285.049988  290.529999  284.109985  287.329987   \n",
       "16697  2024-02-08     MCD  286.200012  293.149994  284.200012  291.929993   \n",
       "16698  2024-02-09     MCD  292.149994  292.510010  288.920013  289.470001   \n",
       "16699  2024-02-12     MCD  289.000000  291.190002  288.760010  289.440002   \n",
       "16700  2024-02-13     MCD  288.630005  289.899994  285.670013  287.109985   \n",
       "\n",
       "        Adj Close    Volume  \n",
       "0      267.660004  11679500  \n",
       "1      271.200012  14969600  \n",
       "2      297.570007  19330100  \n",
       "3      315.339996  18620100  \n",
       "4      320.269989  15359200  \n",
       "...           ...       ...  \n",
       "16696  287.329987   3954700  \n",
       "16697  291.929993   4605000  \n",
       "16698  289.470001   3322100  \n",
       "16699  289.440002   2392300  \n",
       "16700  287.109985   2756100  \n",
       "\n",
       "[16701 rows x 8 columns]"
      ]
     },
     "execution_count": 13,
     "metadata": {},
     "output_type": "execute_result"
    }
   ],
   "source": [
    "df_data"
   ]
  },
  {
   "cell_type": "markdown",
   "metadata": {},
   "source": [
    "Se limita a 2 números los decimales:"
   ]
  },
  {
   "cell_type": "code",
   "execution_count": 15,
   "metadata": {},
   "outputs": [],
   "source": [
    "df_data[\"Open\"] = df_data[\"Open\"].round(2)\n",
    "df_data[\"High\"] = df_data[\"High\"].round(2)\n",
    "df_data[\"Low\"] = df_data[\"Low\"].round(2)\n",
    "df_data[\"Close\"] = df_data[\"Close\"].round(2)\n",
    "df_data[\"Adj Close\"] = df_data[\"Adj Close\"].round(2)"
   ]
  },
  {
   "cell_type": "markdown",
   "metadata": {},
   "source": [
    "Se ve el tipo de cada columna:"
   ]
  },
  {
   "cell_type": "code",
   "execution_count": 16,
   "metadata": {},
   "outputs": [
    {
     "data": {
      "text/plain": [
       "dtype('int64')"
      ]
     },
     "execution_count": 16,
     "metadata": {},
     "output_type": "execute_result"
    }
   ],
   "source": [
    "df_data[\"Volume\"].dtype"
   ]
  },
  {
   "cell_type": "code",
   "execution_count": 17,
   "metadata": {},
   "outputs": [
    {
     "data": {
      "text/plain": [
       "dtype('O')"
      ]
     },
     "execution_count": 17,
     "metadata": {},
     "output_type": "execute_result"
    }
   ],
   "source": [
    "df_data[\"Date\"].dtype"
   ]
  },
  {
   "cell_type": "code",
   "execution_count": 18,
   "metadata": {},
   "outputs": [
    {
     "data": {
      "text/plain": [
       "dtype('O')"
      ]
     },
     "execution_count": 18,
     "metadata": {},
     "output_type": "execute_result"
    }
   ],
   "source": [
    "df_data[\"Company\"].dtype"
   ]
  },
  {
   "cell_type": "code",
   "execution_count": 19,
   "metadata": {},
   "outputs": [
    {
     "data": {
      "text/plain": [
       "dtype('float64')"
      ]
     },
     "execution_count": 19,
     "metadata": {},
     "output_type": "execute_result"
    }
   ],
   "source": [
    "df_data[\"Open\"].dtype"
   ]
  },
  {
   "cell_type": "code",
   "execution_count": 20,
   "metadata": {},
   "outputs": [
    {
     "data": {
      "text/plain": [
       "dtype('float64')"
      ]
     },
     "execution_count": 20,
     "metadata": {},
     "output_type": "execute_result"
    }
   ],
   "source": [
    "df_data[\"High\"].dtype"
   ]
  },
  {
   "cell_type": "code",
   "execution_count": 21,
   "metadata": {},
   "outputs": [
    {
     "data": {
      "text/plain": [
       "dtype('float64')"
      ]
     },
     "execution_count": 21,
     "metadata": {},
     "output_type": "execute_result"
    }
   ],
   "source": [
    "df_data[\"Low\"].dtype"
   ]
  },
  {
   "cell_type": "code",
   "execution_count": 22,
   "metadata": {},
   "outputs": [
    {
     "data": {
      "text/plain": [
       "dtype('float64')"
      ]
     },
     "execution_count": 22,
     "metadata": {},
     "output_type": "execute_result"
    }
   ],
   "source": [
    "df_data[\"Close\"].dtype"
   ]
  },
  {
   "cell_type": "code",
   "execution_count": 23,
   "metadata": {},
   "outputs": [
    {
     "data": {
      "text/plain": [
       "dtype('float64')"
      ]
     },
     "execution_count": 23,
     "metadata": {},
     "output_type": "execute_result"
    }
   ],
   "source": [
    "df_data[\"Adj Close\"].dtype"
   ]
  },
  {
   "cell_type": "markdown",
   "metadata": {},
   "source": [
    "Se transforma la columna \"Date\" de object a Fecha:"
   ]
  },
  {
   "cell_type": "code",
   "execution_count": 25,
   "metadata": {},
   "outputs": [
    {
     "data": {
      "text/html": [
       "<div>\n",
       "<style scoped>\n",
       "    .dataframe tbody tr th:only-of-type {\n",
       "        vertical-align: middle;\n",
       "    }\n",
       "\n",
       "    .dataframe tbody tr th {\n",
       "        vertical-align: top;\n",
       "    }\n",
       "\n",
       "    .dataframe thead th {\n",
       "        text-align: right;\n",
       "    }\n",
       "</style>\n",
       "<table border=\"1\" class=\"dataframe\">\n",
       "  <thead>\n",
       "    <tr style=\"text-align: right;\">\n",
       "      <th></th>\n",
       "      <th>Date</th>\n",
       "      <th>Company</th>\n",
       "      <th>Open</th>\n",
       "      <th>High</th>\n",
       "      <th>Low</th>\n",
       "      <th>Close</th>\n",
       "      <th>Adj Close</th>\n",
       "      <th>Volume</th>\n",
       "    </tr>\n",
       "  </thead>\n",
       "  <tbody>\n",
       "    <tr>\n",
       "      <th>0</th>\n",
       "      <td>2019-01-02</td>\n",
       "      <td>NFLX</td>\n",
       "      <td>259.28</td>\n",
       "      <td>269.75</td>\n",
       "      <td>256.58</td>\n",
       "      <td>267.66</td>\n",
       "      <td>267.66</td>\n",
       "      <td>11679500</td>\n",
       "    </tr>\n",
       "    <tr>\n",
       "      <th>1</th>\n",
       "      <td>2019-01-03</td>\n",
       "      <td>NFLX</td>\n",
       "      <td>270.20</td>\n",
       "      <td>275.79</td>\n",
       "      <td>264.43</td>\n",
       "      <td>271.20</td>\n",
       "      <td>271.20</td>\n",
       "      <td>14969600</td>\n",
       "    </tr>\n",
       "    <tr>\n",
       "      <th>2</th>\n",
       "      <td>2019-01-04</td>\n",
       "      <td>NFLX</td>\n",
       "      <td>281.88</td>\n",
       "      <td>297.80</td>\n",
       "      <td>278.54</td>\n",
       "      <td>297.57</td>\n",
       "      <td>297.57</td>\n",
       "      <td>19330100</td>\n",
       "    </tr>\n",
       "    <tr>\n",
       "      <th>3</th>\n",
       "      <td>2019-01-07</td>\n",
       "      <td>NFLX</td>\n",
       "      <td>302.10</td>\n",
       "      <td>316.80</td>\n",
       "      <td>301.65</td>\n",
       "      <td>315.34</td>\n",
       "      <td>315.34</td>\n",
       "      <td>18620100</td>\n",
       "    </tr>\n",
       "    <tr>\n",
       "      <th>4</th>\n",
       "      <td>2019-01-08</td>\n",
       "      <td>NFLX</td>\n",
       "      <td>319.98</td>\n",
       "      <td>320.59</td>\n",
       "      <td>308.01</td>\n",
       "      <td>320.27</td>\n",
       "      <td>320.27</td>\n",
       "      <td>15359200</td>\n",
       "    </tr>\n",
       "    <tr>\n",
       "      <th>...</th>\n",
       "      <td>...</td>\n",
       "      <td>...</td>\n",
       "      <td>...</td>\n",
       "      <td>...</td>\n",
       "      <td>...</td>\n",
       "      <td>...</td>\n",
       "      <td>...</td>\n",
       "      <td>...</td>\n",
       "    </tr>\n",
       "    <tr>\n",
       "      <th>16696</th>\n",
       "      <td>2024-02-07</td>\n",
       "      <td>MCD</td>\n",
       "      <td>285.05</td>\n",
       "      <td>290.53</td>\n",
       "      <td>284.11</td>\n",
       "      <td>287.33</td>\n",
       "      <td>287.33</td>\n",
       "      <td>3954700</td>\n",
       "    </tr>\n",
       "    <tr>\n",
       "      <th>16697</th>\n",
       "      <td>2024-02-08</td>\n",
       "      <td>MCD</td>\n",
       "      <td>286.20</td>\n",
       "      <td>293.15</td>\n",
       "      <td>284.20</td>\n",
       "      <td>291.93</td>\n",
       "      <td>291.93</td>\n",
       "      <td>4605000</td>\n",
       "    </tr>\n",
       "    <tr>\n",
       "      <th>16698</th>\n",
       "      <td>2024-02-09</td>\n",
       "      <td>MCD</td>\n",
       "      <td>292.15</td>\n",
       "      <td>292.51</td>\n",
       "      <td>288.92</td>\n",
       "      <td>289.47</td>\n",
       "      <td>289.47</td>\n",
       "      <td>3322100</td>\n",
       "    </tr>\n",
       "    <tr>\n",
       "      <th>16699</th>\n",
       "      <td>2024-02-12</td>\n",
       "      <td>MCD</td>\n",
       "      <td>289.00</td>\n",
       "      <td>291.19</td>\n",
       "      <td>288.76</td>\n",
       "      <td>289.44</td>\n",
       "      <td>289.44</td>\n",
       "      <td>2392300</td>\n",
       "    </tr>\n",
       "    <tr>\n",
       "      <th>16700</th>\n",
       "      <td>2024-02-13</td>\n",
       "      <td>MCD</td>\n",
       "      <td>288.63</td>\n",
       "      <td>289.90</td>\n",
       "      <td>285.67</td>\n",
       "      <td>287.11</td>\n",
       "      <td>287.11</td>\n",
       "      <td>2756100</td>\n",
       "    </tr>\n",
       "  </tbody>\n",
       "</table>\n",
       "<p>16701 rows × 8 columns</p>\n",
       "</div>"
      ],
      "text/plain": [
       "            Date Company    Open    High     Low   Close  Adj Close    Volume\n",
       "0     2019-01-02    NFLX  259.28  269.75  256.58  267.66     267.66  11679500\n",
       "1     2019-01-03    NFLX  270.20  275.79  264.43  271.20     271.20  14969600\n",
       "2     2019-01-04    NFLX  281.88  297.80  278.54  297.57     297.57  19330100\n",
       "3     2019-01-07    NFLX  302.10  316.80  301.65  315.34     315.34  18620100\n",
       "4     2019-01-08    NFLX  319.98  320.59  308.01  320.27     320.27  15359200\n",
       "...          ...     ...     ...     ...     ...     ...        ...       ...\n",
       "16696 2024-02-07     MCD  285.05  290.53  284.11  287.33     287.33   3954700\n",
       "16697 2024-02-08     MCD  286.20  293.15  284.20  291.93     291.93   4605000\n",
       "16698 2024-02-09     MCD  292.15  292.51  288.92  289.47     289.47   3322100\n",
       "16699 2024-02-12     MCD  289.00  291.19  288.76  289.44     289.44   2392300\n",
       "16700 2024-02-13     MCD  288.63  289.90  285.67  287.11     287.11   2756100\n",
       "\n",
       "[16701 rows x 8 columns]"
      ]
     },
     "execution_count": 25,
     "metadata": {},
     "output_type": "execute_result"
    }
   ],
   "source": [
    "df_data[\"Date\"] = pd.to_datetime(df_data[\"Date\"])\n",
    "df_data"
   ]
  },
  {
   "cell_type": "markdown",
   "metadata": {},
   "source": [
    "Se agregan columnas para separar día, mes y año:"
   ]
  },
  {
   "cell_type": "code",
   "execution_count": 26,
   "metadata": {},
   "outputs": [],
   "source": [
    "df_data['Year'] = df_data['Date'].dt.year"
   ]
  },
  {
   "cell_type": "code",
   "execution_count": 27,
   "metadata": {},
   "outputs": [],
   "source": [
    "df_data['Month'] = df_data['Date'].dt.month"
   ]
  },
  {
   "cell_type": "code",
   "execution_count": 28,
   "metadata": {},
   "outputs": [],
   "source": [
    "df_data['Day'] = df_data['Date'].dt.day"
   ]
  },
  {
   "cell_type": "code",
   "execution_count": 29,
   "metadata": {},
   "outputs": [
    {
     "data": {
      "text/html": [
       "<div>\n",
       "<style scoped>\n",
       "    .dataframe tbody tr th:only-of-type {\n",
       "        vertical-align: middle;\n",
       "    }\n",
       "\n",
       "    .dataframe tbody tr th {\n",
       "        vertical-align: top;\n",
       "    }\n",
       "\n",
       "    .dataframe thead th {\n",
       "        text-align: right;\n",
       "    }\n",
       "</style>\n",
       "<table border=\"1\" class=\"dataframe\">\n",
       "  <thead>\n",
       "    <tr style=\"text-align: right;\">\n",
       "      <th></th>\n",
       "      <th>Date</th>\n",
       "      <th>Company</th>\n",
       "      <th>Open</th>\n",
       "      <th>High</th>\n",
       "      <th>Low</th>\n",
       "      <th>Close</th>\n",
       "      <th>Adj Close</th>\n",
       "      <th>Volume</th>\n",
       "      <th>Year</th>\n",
       "      <th>Month</th>\n",
       "      <th>Day</th>\n",
       "    </tr>\n",
       "  </thead>\n",
       "  <tbody>\n",
       "    <tr>\n",
       "      <th>0</th>\n",
       "      <td>2019-01-02</td>\n",
       "      <td>NFLX</td>\n",
       "      <td>259.28</td>\n",
       "      <td>269.75</td>\n",
       "      <td>256.58</td>\n",
       "      <td>267.66</td>\n",
       "      <td>267.66</td>\n",
       "      <td>11679500</td>\n",
       "      <td>2019</td>\n",
       "      <td>1</td>\n",
       "      <td>2</td>\n",
       "    </tr>\n",
       "    <tr>\n",
       "      <th>1</th>\n",
       "      <td>2019-01-03</td>\n",
       "      <td>NFLX</td>\n",
       "      <td>270.20</td>\n",
       "      <td>275.79</td>\n",
       "      <td>264.43</td>\n",
       "      <td>271.20</td>\n",
       "      <td>271.20</td>\n",
       "      <td>14969600</td>\n",
       "      <td>2019</td>\n",
       "      <td>1</td>\n",
       "      <td>3</td>\n",
       "    </tr>\n",
       "    <tr>\n",
       "      <th>2</th>\n",
       "      <td>2019-01-04</td>\n",
       "      <td>NFLX</td>\n",
       "      <td>281.88</td>\n",
       "      <td>297.80</td>\n",
       "      <td>278.54</td>\n",
       "      <td>297.57</td>\n",
       "      <td>297.57</td>\n",
       "      <td>19330100</td>\n",
       "      <td>2019</td>\n",
       "      <td>1</td>\n",
       "      <td>4</td>\n",
       "    </tr>\n",
       "    <tr>\n",
       "      <th>3</th>\n",
       "      <td>2019-01-07</td>\n",
       "      <td>NFLX</td>\n",
       "      <td>302.10</td>\n",
       "      <td>316.80</td>\n",
       "      <td>301.65</td>\n",
       "      <td>315.34</td>\n",
       "      <td>315.34</td>\n",
       "      <td>18620100</td>\n",
       "      <td>2019</td>\n",
       "      <td>1</td>\n",
       "      <td>7</td>\n",
       "    </tr>\n",
       "    <tr>\n",
       "      <th>4</th>\n",
       "      <td>2019-01-08</td>\n",
       "      <td>NFLX</td>\n",
       "      <td>319.98</td>\n",
       "      <td>320.59</td>\n",
       "      <td>308.01</td>\n",
       "      <td>320.27</td>\n",
       "      <td>320.27</td>\n",
       "      <td>15359200</td>\n",
       "      <td>2019</td>\n",
       "      <td>1</td>\n",
       "      <td>8</td>\n",
       "    </tr>\n",
       "    <tr>\n",
       "      <th>...</th>\n",
       "      <td>...</td>\n",
       "      <td>...</td>\n",
       "      <td>...</td>\n",
       "      <td>...</td>\n",
       "      <td>...</td>\n",
       "      <td>...</td>\n",
       "      <td>...</td>\n",
       "      <td>...</td>\n",
       "      <td>...</td>\n",
       "      <td>...</td>\n",
       "      <td>...</td>\n",
       "    </tr>\n",
       "    <tr>\n",
       "      <th>16696</th>\n",
       "      <td>2024-02-07</td>\n",
       "      <td>MCD</td>\n",
       "      <td>285.05</td>\n",
       "      <td>290.53</td>\n",
       "      <td>284.11</td>\n",
       "      <td>287.33</td>\n",
       "      <td>287.33</td>\n",
       "      <td>3954700</td>\n",
       "      <td>2024</td>\n",
       "      <td>2</td>\n",
       "      <td>7</td>\n",
       "    </tr>\n",
       "    <tr>\n",
       "      <th>16697</th>\n",
       "      <td>2024-02-08</td>\n",
       "      <td>MCD</td>\n",
       "      <td>286.20</td>\n",
       "      <td>293.15</td>\n",
       "      <td>284.20</td>\n",
       "      <td>291.93</td>\n",
       "      <td>291.93</td>\n",
       "      <td>4605000</td>\n",
       "      <td>2024</td>\n",
       "      <td>2</td>\n",
       "      <td>8</td>\n",
       "    </tr>\n",
       "    <tr>\n",
       "      <th>16698</th>\n",
       "      <td>2024-02-09</td>\n",
       "      <td>MCD</td>\n",
       "      <td>292.15</td>\n",
       "      <td>292.51</td>\n",
       "      <td>288.92</td>\n",
       "      <td>289.47</td>\n",
       "      <td>289.47</td>\n",
       "      <td>3322100</td>\n",
       "      <td>2024</td>\n",
       "      <td>2</td>\n",
       "      <td>9</td>\n",
       "    </tr>\n",
       "    <tr>\n",
       "      <th>16699</th>\n",
       "      <td>2024-02-12</td>\n",
       "      <td>MCD</td>\n",
       "      <td>289.00</td>\n",
       "      <td>291.19</td>\n",
       "      <td>288.76</td>\n",
       "      <td>289.44</td>\n",
       "      <td>289.44</td>\n",
       "      <td>2392300</td>\n",
       "      <td>2024</td>\n",
       "      <td>2</td>\n",
       "      <td>12</td>\n",
       "    </tr>\n",
       "    <tr>\n",
       "      <th>16700</th>\n",
       "      <td>2024-02-13</td>\n",
       "      <td>MCD</td>\n",
       "      <td>288.63</td>\n",
       "      <td>289.90</td>\n",
       "      <td>285.67</td>\n",
       "      <td>287.11</td>\n",
       "      <td>287.11</td>\n",
       "      <td>2756100</td>\n",
       "      <td>2024</td>\n",
       "      <td>2</td>\n",
       "      <td>13</td>\n",
       "    </tr>\n",
       "  </tbody>\n",
       "</table>\n",
       "<p>16701 rows × 11 columns</p>\n",
       "</div>"
      ],
      "text/plain": [
       "            Date Company    Open    High     Low   Close  Adj Close    Volume  \\\n",
       "0     2019-01-02    NFLX  259.28  269.75  256.58  267.66     267.66  11679500   \n",
       "1     2019-01-03    NFLX  270.20  275.79  264.43  271.20     271.20  14969600   \n",
       "2     2019-01-04    NFLX  281.88  297.80  278.54  297.57     297.57  19330100   \n",
       "3     2019-01-07    NFLX  302.10  316.80  301.65  315.34     315.34  18620100   \n",
       "4     2019-01-08    NFLX  319.98  320.59  308.01  320.27     320.27  15359200   \n",
       "...          ...     ...     ...     ...     ...     ...        ...       ...   \n",
       "16696 2024-02-07     MCD  285.05  290.53  284.11  287.33     287.33   3954700   \n",
       "16697 2024-02-08     MCD  286.20  293.15  284.20  291.93     291.93   4605000   \n",
       "16698 2024-02-09     MCD  292.15  292.51  288.92  289.47     289.47   3322100   \n",
       "16699 2024-02-12     MCD  289.00  291.19  288.76  289.44     289.44   2392300   \n",
       "16700 2024-02-13     MCD  288.63  289.90  285.67  287.11     287.11   2756100   \n",
       "\n",
       "       Year  Month  Day  \n",
       "0      2019      1    2  \n",
       "1      2019      1    3  \n",
       "2      2019      1    4  \n",
       "3      2019      1    7  \n",
       "4      2019      1    8  \n",
       "...     ...    ...  ...  \n",
       "16696  2024      2    7  \n",
       "16697  2024      2    8  \n",
       "16698  2024      2    9  \n",
       "16699  2024      2   12  \n",
       "16700  2024      2   13  \n",
       "\n",
       "[16701 rows x 11 columns]"
      ]
     },
     "execution_count": 29,
     "metadata": {},
     "output_type": "execute_result"
    }
   ],
   "source": [
    "df_data"
   ]
  },
  {
   "cell_type": "markdown",
   "metadata": {},
   "source": [
    "Se transforma la columna 'Company' en string:"
   ]
  },
  {
   "cell_type": "code",
   "execution_count": 30,
   "metadata": {},
   "outputs": [],
   "source": [
    "df_data[\"Company\"] = df_data[\"Company\"].astype(str)"
   ]
  },
  {
   "cell_type": "markdown",
   "metadata": {},
   "source": [
    "Se realiza un gráfico para ver como cambian los precios de las acciones a lo largo del tiempo:"
   ]
  },
  {
   "cell_type": "code",
   "execution_count": 32,
   "metadata": {},
   "outputs": [
    {
     "data": {
      "image/png": "[encoded data removed]",
      "text/plain": [
       "<Figure size 640x480 with 1 Axes>"
      ]
     },
     "metadata": {},
     "output_type": "display_data"
    }
   ],
   "source": [
    "import matplotlib.pyplot as plt\n",
    "\n",
    "plt.plot(df_data['Date'], df_data['Close'])\n",
    "plt.xlabel('Fecha')\n",
    "plt.ylabel('Precio de cierre')\n",
    "plt.title('Gráfico de series temporales del precio de cierre')\n",
    "plt.show()"
   ]
  },
  {
   "cell_type": "markdown",
   "metadata": {},
   "source": [
    "Se realiza un Histograma del Precio de Cierre. La frecuencia representa el número de observaciones en cada bin. Cada barra del histograma representa un intervalo de precios, es decir bin, y la altura de la barra representa el número de veces que se observaron valores de precio de cierre en ese intervalo:"
   ]
  },
  {
   "cell_type": "code",
   "execution_count": 33,
   "metadata": {},
   "outputs": [
    {
     "data": {
      "image/png": "[encoded data removed]",
      "text/plain": [
       "<Figure size 640x480 with 1 Axes>"
      ]
     },
     "metadata": {},
     "output_type": "display_data"
    }
   ],
   "source": [
    "plt.hist(df_data['Close'], bins=20, color='skyblue', edgecolor='black')\n",
    "plt.xlabel('Precio de cierre')\n",
    "plt.ylabel('Frecuencia')\n",
    "plt.title('Histograma del Precio de Cierre')\n",
    "plt.show()"
   ]
  },
  {
   "cell_type": "markdown",
   "metadata": {},
   "source": [
    "Se realiza un gráfico para comparar el volumen de operaciones entre diferentes compañías:"
   ]
  },
  {
   "cell_type": "code",
   "execution_count": 34,
   "metadata": {},
   "outputs": [
    {
     "data": {
      "image/png": "[encoded data removed]",
      "text/plain": [
       "<Figure size 640x480 with 1 Axes>"
      ]
     },
     "metadata": {},
     "output_type": "display_data"
    }
   ],
   "source": [
    "plt.bar(df_data['Company'], df_data['Volume'])\n",
    "plt.xlabel('Compañía')\n",
    "plt.ylabel('Volumen')\n",
    "plt.title('Volumen de operaciones por compañía')\n",
    "plt.xticks(rotation=45)\n",
    "plt.show()"
   ]
  },
  {
   "cell_type": "markdown",
   "metadata": {},
   "source": [
    "Se realiza un gráfico de barras que muestra la diferencia entre el precio de apertura y el precio de cierre de las acciones, por fecha:"
   ]
  },
  {
   "cell_type": "code",
   "execution_count": 35,
   "metadata": {},
   "outputs": [
    {
     "data": {
      "image/png": "[encoded data removed]",
      "text/plain": [
       "<Figure size 640x480 with 1 Axes>"
      ]
     },
     "metadata": {},
     "output_type": "display_data"
    }
   ],
   "source": [
    "df_data['Diferencia'] = df_data['Close'] - df_data['Open']\n",
    "\n",
    "\n",
    "plt.bar(df_data['Date'], df_data['Diferencia'], color='blue')\n",
    "\n",
    "plt.xlabel('Fecha')\n",
    "plt.ylabel('Diferencia entre precio de cierre y apertura')\n",
    "plt.title('Diferencia entre precio de cierre y apertura para cada entrada')\n",
    "\n",
    "plt.show()"
   ]
  },
  {
   "cell_type": "markdown",
   "metadata": {},
   "source": [
    "Modelos de predicción:"
   ]
  },
  {
   "cell_type": "code",
   "execution_count": 37,
   "metadata": {},
   "outputs": [],
   "source": [
    "from sklearn.model_selection import train_test_split\n",
    "from sklearn.linear_model import LinearRegression\n",
    "from sklearn.metrics import mean_squared_error"
   ]
  },
  {
   "cell_type": "code",
   "execution_count": 36,
   "metadata": {},
   "outputs": [
    {
     "data": {
      "text/html": [
       "<div>\n",
       "<style scoped>\n",
       "    .dataframe tbody tr th:only-of-type {\n",
       "        vertical-align: middle;\n",
       "    }\n",
       "\n",
       "    .dataframe tbody tr th {\n",
       "        vertical-align: top;\n",
       "    }\n",
       "\n",
       "    .dataframe thead th {\n",
       "        text-align: right;\n",
       "    }\n",
       "</style>\n",
       "<table border=\"1\" class=\"dataframe\">\n",
       "  <thead>\n",
       "    <tr style=\"text-align: right;\">\n",
       "      <th></th>\n",
       "      <th>Date</th>\n",
       "      <th>Company</th>\n",
       "      <th>Open</th>\n",
       "      <th>High</th>\n",
       "      <th>Low</th>\n",
       "      <th>Close</th>\n",
       "      <th>Adj Close</th>\n",
       "      <th>Volume</th>\n",
       "      <th>Year</th>\n",
       "      <th>Month</th>\n",
       "      <th>Day</th>\n",
       "      <th>Diferencia</th>\n",
       "    </tr>\n",
       "  </thead>\n",
       "  <tbody>\n",
       "    <tr>\n",
       "      <th>0</th>\n",
       "      <td>2019-01-02</td>\n",
       "      <td>NFLX</td>\n",
       "      <td>259.28</td>\n",
       "      <td>269.75</td>\n",
       "      <td>256.58</td>\n",
       "      <td>267.66</td>\n",
       "      <td>267.66</td>\n",
       "      <td>11679500</td>\n",
       "      <td>2019</td>\n",
       "      <td>1</td>\n",
       "      <td>2</td>\n",
       "      <td>8.38</td>\n",
       "    </tr>\n",
       "    <tr>\n",
       "      <th>1</th>\n",
       "      <td>2019-01-03</td>\n",
       "      <td>NFLX</td>\n",
       "      <td>270.20</td>\n",
       "      <td>275.79</td>\n",
       "      <td>264.43</td>\n",
       "      <td>271.20</td>\n",
       "      <td>271.20</td>\n",
       "      <td>14969600</td>\n",
       "      <td>2019</td>\n",
       "      <td>1</td>\n",
       "      <td>3</td>\n",
       "      <td>1.00</td>\n",
       "    </tr>\n",
       "    <tr>\n",
       "      <th>2</th>\n",
       "      <td>2019-01-04</td>\n",
       "      <td>NFLX</td>\n",
       "      <td>281.88</td>\n",
       "      <td>297.80</td>\n",
       "      <td>278.54</td>\n",
       "      <td>297.57</td>\n",
       "      <td>297.57</td>\n",
       "      <td>19330100</td>\n",
       "      <td>2019</td>\n",
       "      <td>1</td>\n",
       "      <td>4</td>\n",
       "      <td>15.69</td>\n",
       "    </tr>\n",
       "    <tr>\n",
       "      <th>3</th>\n",
       "      <td>2019-01-07</td>\n",
       "      <td>NFLX</td>\n",
       "      <td>302.10</td>\n",
       "      <td>316.80</td>\n",
       "      <td>301.65</td>\n",
       "      <td>315.34</td>\n",
       "      <td>315.34</td>\n",
       "      <td>18620100</td>\n",
       "      <td>2019</td>\n",
       "      <td>1</td>\n",
       "      <td>7</td>\n",
       "      <td>13.24</td>\n",
       "    </tr>\n",
       "    <tr>\n",
       "      <th>4</th>\n",
       "      <td>2019-01-08</td>\n",
       "      <td>NFLX</td>\n",
       "      <td>319.98</td>\n",
       "      <td>320.59</td>\n",
       "      <td>308.01</td>\n",
       "      <td>320.27</td>\n",
       "      <td>320.27</td>\n",
       "      <td>15359200</td>\n",
       "      <td>2019</td>\n",
       "      <td>1</td>\n",
       "      <td>8</td>\n",
       "      <td>0.29</td>\n",
       "    </tr>\n",
       "    <tr>\n",
       "      <th>...</th>\n",
       "      <td>...</td>\n",
       "      <td>...</td>\n",
       "      <td>...</td>\n",
       "      <td>...</td>\n",
       "      <td>...</td>\n",
       "      <td>...</td>\n",
       "      <td>...</td>\n",
       "      <td>...</td>\n",
       "      <td>...</td>\n",
       "      <td>...</td>\n",
       "      <td>...</td>\n",
       "      <td>...</td>\n",
       "    </tr>\n",
       "    <tr>\n",
       "      <th>16696</th>\n",
       "      <td>2024-02-07</td>\n",
       "      <td>MCD</td>\n",
       "      <td>285.05</td>\n",
       "      <td>290.53</td>\n",
       "      <td>284.11</td>\n",
       "      <td>287.33</td>\n",
       "      <td>287.33</td>\n",
       "      <td>3954700</td>\n",
       "      <td>2024</td>\n",
       "      <td>2</td>\n",
       "      <td>7</td>\n",
       "      <td>2.28</td>\n",
       "    </tr>\n",
       "    <tr>\n",
       "      <th>16697</th>\n",
       "      <td>2024-02-08</td>\n",
       "      <td>MCD</td>\n",
       "      <td>286.20</td>\n",
       "      <td>293.15</td>\n",
       "      <td>284.20</td>\n",
       "      <td>291.93</td>\n",
       "      <td>291.93</td>\n",
       "      <td>4605000</td>\n",
       "      <td>2024</td>\n",
       "      <td>2</td>\n",
       "      <td>8</td>\n",
       "      <td>5.73</td>\n",
       "    </tr>\n",
       "    <tr>\n",
       "      <th>16698</th>\n",
       "      <td>2024-02-09</td>\n",
       "      <td>MCD</td>\n",
       "      <td>292.15</td>\n",
       "      <td>292.51</td>\n",
       "      <td>288.92</td>\n",
       "      <td>289.47</td>\n",
       "      <td>289.47</td>\n",
       "      <td>3322100</td>\n",
       "      <td>2024</td>\n",
       "      <td>2</td>\n",
       "      <td>9</td>\n",
       "      <td>-2.68</td>\n",
       "    </tr>\n",
       "    <tr>\n",
       "      <th>16699</th>\n",
       "      <td>2024-02-12</td>\n",
       "      <td>MCD</td>\n",
       "      <td>289.00</td>\n",
       "      <td>291.19</td>\n",
       "      <td>288.76</td>\n",
       "      <td>289.44</td>\n",
       "      <td>289.44</td>\n",
       "      <td>2392300</td>\n",
       "      <td>2024</td>\n",
       "      <td>2</td>\n",
       "      <td>12</td>\n",
       "      <td>0.44</td>\n",
       "    </tr>\n",
       "    <tr>\n",
       "      <th>16700</th>\n",
       "      <td>2024-02-13</td>\n",
       "      <td>MCD</td>\n",
       "      <td>288.63</td>\n",
       "      <td>289.90</td>\n",
       "      <td>285.67</td>\n",
       "      <td>287.11</td>\n",
       "      <td>287.11</td>\n",
       "      <td>2756100</td>\n",
       "      <td>2024</td>\n",
       "      <td>2</td>\n",
       "      <td>13</td>\n",
       "      <td>-1.52</td>\n",
       "    </tr>\n",
       "  </tbody>\n",
       "</table>\n",
       "<p>16701 rows × 12 columns</p>\n",
       "</div>"
      ],
      "text/plain": [
       "            Date Company    Open    High     Low   Close  Adj Close    Volume  \\\n",
       "0     2019-01-02    NFLX  259.28  269.75  256.58  267.66     267.66  11679500   \n",
       "1     2019-01-03    NFLX  270.20  275.79  264.43  271.20     271.20  14969600   \n",
       "2     2019-01-04    NFLX  281.88  297.80  278.54  297.57     297.57  19330100   \n",
       "3     2019-01-07    NFLX  302.10  316.80  301.65  315.34     315.34  18620100   \n",
       "4     2019-01-08    NFLX  319.98  320.59  308.01  320.27     320.27  15359200   \n",
       "...          ...     ...     ...     ...     ...     ...        ...       ...   \n",
       "16696 2024-02-07     MCD  285.05  290.53  284.11  287.33     287.33   3954700   \n",
       "16697 2024-02-08     MCD  286.20  293.15  284.20  291.93     291.93   4605000   \n",
       "16698 2024-02-09     MCD  292.15  292.51  288.92  289.47     289.47   3322100   \n",
       "16699 2024-02-12     MCD  289.00  291.19  288.76  289.44     289.44   2392300   \n",
       "16700 2024-02-13     MCD  288.63  289.90  285.67  287.11     287.11   2756100   \n",
       "\n",
       "       Year  Month  Day  Diferencia  \n",
       "0      2019      1    2        8.38  \n",
       "1      2019      1    3        1.00  \n",
       "2      2019      1    4       15.69  \n",
       "3      2019      1    7       13.24  \n",
       "4      2019      1    8        0.29  \n",
       "...     ...    ...  ...         ...  \n",
       "16696  2024      2    7        2.28  \n",
       "16697  2024      2    8        5.73  \n",
       "16698  2024      2    9       -2.68  \n",
       "16699  2024      2   12        0.44  \n",
       "16700  2024      2   13       -1.52  \n",
       "\n",
       "[16701 rows x 12 columns]"
      ]
     },
     "execution_count": 36,
     "metadata": {},
     "output_type": "execute_result"
    }
   ],
   "source": [
    "df_data"
   ]
  },
  {
   "cell_type": "markdown",
   "metadata": {},
   "source": [
    "Este código entrena un modelo de regresión lineal para predecir la diferencia entre el precio de apertura y cierre (Diferencia) utilizando las características del DataFrame."
   ]
  },
  {
   "cell_type": "code",
   "execution_count": 38,
   "metadata": {},
   "outputs": [],
   "source": [
    "X = df_data[['Open', 'High', 'Low', 'Close', 'Adj Close', 'Volume']]  # características\n",
    "y = df_data['Diferencia']  # variable objetivo\n"
   ]
  },
  {
   "cell_type": "code",
   "execution_count": 39,
   "metadata": {},
   "outputs": [],
   "source": [
    "# Dividir los datos en conjuntos de entrenamiento y prueba\n",
    "X_train, X_test, y_train, y_test = train_test_split(X, y, test_size=0.2, random_state=42)"
   ]
  },
  {
   "cell_type": "code",
   "execution_count": 40,
   "metadata": {},
   "outputs": [
    {
     "name": "stdout",
     "output_type": "stream",
     "text": [
      "Error cuadrático medio: 9.442832865464193e-25\n"
     ]
    }
   ],
   "source": [
    "# Inicializar el modelo de regresión lineal\n",
    "modelo = LinearRegression()\n",
    "\n",
    "# Entrenar el modelo con los datos de entrenamiento\n",
    "modelo.fit(X_train, y_train)\n",
    "\n",
    "# Hacer predicciones en los datos de prueba\n",
    "y_pred = modelo.predict(X_test)\n",
    "\n",
    "# Evaluar el rendimiento del modelo\n",
    "mse = mean_squared_error(y_test, y_pred)\n",
    "print(\"Error cuadrático medio:\", mse)"
   ]
  },
  {
   "cell_type": "markdown",
   "metadata": {},
   "source": []
  }
 ],
 "metadata": {
  "kernelspec": {
   "display_name": "NC_venv",
   "language": "python",
   "name": "python3"
  },
  "language_info": {
   "codemirror_mode": {
    "name": "ipython",
    "version": 3
   },
   "file_extension": ".py",
   "mimetype": "text/x-python",
   "name": "python",
   "nbconvert_exporter": "python",
   "pygments_lexer": "ipython3",
   "version": "3.10.10"
  }
 },
 "nbformat": 4,
 "nbformat_minor": 2
}
